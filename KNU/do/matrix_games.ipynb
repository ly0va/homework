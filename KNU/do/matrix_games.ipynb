{
 "cells": [
  {
   "cell_type": "code",
   "execution_count": 157,
   "id": "90fa48ce",
   "metadata": {},
   "outputs": [],
   "source": [
    "from sympy import Matrix, pprint\n",
    "\n",
    "def game_price_limits(A):\n",
    "    m, n = A.shape\n",
    "    v_upper = min(max(A[i, :]) for i in range(m))\n",
    "    v_lower = max(min(A[:, j]) for j in range(n))\n",
    "    return v_lower, v_upper\n",
    "\n",
    "\n",
    "def simplex_method(A, b, c, basis):\n",
    "    m, n = A.shape\n",
    "\n",
    "    # compute delta_k\n",
    "    deltas = [\n",
    "        c[j] - sum(c[basis[i]]*A[i, j] for i in range(m))\n",
    "        for j in range(n)\n",
    "    ]\n",
    "    \n",
    "    # check if optimal vertex is reached\n",
    "    if all(delta >= 0 for delta in deltas):\n",
    "        xstar = [0] * n\n",
    "        for i in range(m):\n",
    "            xstar[basis[i]] = b[i]\n",
    "        return xstar\n",
    "\n",
    "    k = deltas.index(min(deltas))  # determine in_index\n",
    "\n",
    "    # check if target function is unbounded\n",
    "    if all(A[i, k] <= 0 for i in range(m)): return\n",
    "\n",
    "    # compute theta_k\n",
    "    thetas = [\n",
    "        b[i]/A[i, k] if A[i, k] > 0 else float('inf')\n",
    "        for i in range(m)\n",
    "    ]\n",
    "\n",
    "    l = thetas.index(min(thetas))  # determine out_index\n",
    "    basis[l] = k                   # change basis\n",
    "\n",
    "    # perform gauss transformations\n",
    "    b[l] /= A[l, k]\n",
    "    A[l, :] /= A[l, k]\n",
    "    for i in range(m):\n",
    "        if i == l: continue\n",
    "        b[i] -= b[l] * A[i, k]\n",
    "        A[i, :] -= A[l, :] * A[i, k]\n",
    "\n",
    "    return simplex_method(A, b, c, basis)   # start over\n",
    "\n",
    "\n",
    "\n",
    "def solve_game(A): # accepts matrix for p2\n",
    "    v_lower, v_upper = game_price_limits(A)\n",
    "    print(f\"v_lower = {v_lower}\")\n",
    "    print(f\"v_upper = {v_upper}\")\n",
    "    if v_lower == v_upper:\n",
    "        print(\"Game is solvable in pure optimal strategies\")\n",
    "        print(f'v* = {v_lower}')\n",
    "        return\n",
    "    \n",
    "    m, n = A.shape\n",
    "    c = -Matrix([1] * m + [0] * n)\n",
    "    A = A.T.row_join(Matrix.eye(n))\n",
    "    B = A.copy()\n",
    "    b = Matrix([1] * n)\n",
    "    basis = list(range(m, m+n))\n",
    "    \n",
    "    # find x_star using simplex method\n",
    "    z = simplex_method(A, b, c, basis)\n",
    "    v_star = 1/sum(z[:m])\n",
    "    x_star = [v_star * z_i for z_i in z[:m]]\n",
    "    \n",
    "    # find y_star using dual simplex method\n",
    "    D = Matrix([list(B[:, i]) for i in basis]).T.inv()\n",
    "    C = -Matrix([[c[i, 0] for i in basis]])\n",
    "    z = C*D\n",
    "    y_star = [v_star * z_i for z_i in z[:n]]\n",
    "    \n",
    "    print(f'v* = {v_star}')\n",
    "    print(f'x* = {x_star}')\n",
    "    print(f'y* = {y_star}')\n"
   ]
  },
  {
   "cell_type": "code",
   "execution_count": 158,
   "id": "f9b787da",
   "metadata": {},
   "outputs": [
    {
     "name": "stdout",
     "output_type": "stream",
     "text": [
      "v_lower = -1\n",
      "v_upper = 2\n",
      "v* = 7/5\n",
      "x* = [1/5, 4/5, 0, 0, 0, 0]\n",
      "y* = [3/5, 2/5]\n"
     ]
    }
   ],
   "source": [
    "A = Matrix([\n",
    "    [3, -1],\n",
    "    [1, 2],\n",
    "    [0, 4],\n",
    "    [2, 1],\n",
    "    [-1, 7],\n",
    "    [1, 5]\n",
    "])\n",
    "\n",
    "solve_game(A)"
   ]
  },
  {
   "cell_type": "code",
   "execution_count": 159,
   "id": "da207840",
   "metadata": {},
   "outputs": [
    {
     "name": "stdout",
     "output_type": "stream",
     "text": [
      "v_lower = 1\n",
      "v_upper = 2\n",
      "v* = 5/3\n",
      "x* = [2/3, 1/3]\n",
      "y* = [1/6, 5/6]\n"
     ]
    }
   ],
   "source": [
    "A = Matrix([\n",
    "    [0, 2],\n",
    "    [5, 1]\n",
    "])\n",
    "\n",
    "solve_game(A)"
   ]
  },
  {
   "cell_type": "code",
   "execution_count": 161,
   "id": "9675008c",
   "metadata": {},
   "outputs": [
    {
     "name": "stdout",
     "output_type": "stream",
     "text": [
      "v_lower = 2\n",
      "v_upper = 4\n",
      "v* > 0\n"
     ]
    }
   ],
   "source": [
    "A = Matrix([\n",
    "    [1, 2, -5, 7],\n",
    "    [9, 3, -2, 4],\n",
    "    [6, 8, 10, -2],\n",
    "    [0, 4, -3, -5]\n",
    "])\n",
    "\n",
    "v_lower, v_upper = game_price_limits(A)\n",
    "print(f\"v_lower = {v_lower}\")\n",
    "print(f\"v_upper = {v_upper}\")\n",
    "\n",
    "assert v_lower > 0\n",
    "assert v_upper > 0\n",
    "print('v* > 0')"
   ]
  },
  {
   "cell_type": "code",
   "execution_count": null,
   "id": "c2351de8",
   "metadata": {},
   "outputs": [],
   "source": []
  }
 ],
 "metadata": {
  "kernelspec": {
   "display_name": "Python 3",
   "language": "python",
   "name": "python3"
  },
  "language_info": {
   "codemirror_mode": {
    "name": "ipython",
    "version": 3
   },
   "file_extension": ".py",
   "mimetype": "text/x-python",
   "name": "python",
   "nbconvert_exporter": "python",
   "pygments_lexer": "ipython3",
   "version": "3.9.5"
  }
 },
 "nbformat": 4,
 "nbformat_minor": 5
}
