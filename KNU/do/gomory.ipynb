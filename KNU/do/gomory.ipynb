{
 "cells": [
  {
   "cell_type": "code",
   "execution_count": 164,
   "id": "373112a3",
   "metadata": {},
   "outputs": [],
   "source": [
    "from sympy import Matrix, frac\n",
    "\n",
    "A = Matrix([\n",
    "    [2,  3, 1, 0,  0],\n",
    "    [3, -5, 0, 1,  0],\n",
    "    [5,  3, 0, 0, -1],\n",
    "])\n",
    "\n",
    "b = Matrix([19, 17, 17])\n",
    "\n",
    "c = Matrix([-5, -1, 0, 0, 0])"
   ]
  },
  {
   "cell_type": "code",
   "execution_count": 165,
   "id": "96470ed4",
   "metadata": {},
   "outputs": [],
   "source": [
    "def simplex_method(A, b, c, basis):\n",
    "    global deltas\n",
    "    #print('step')\n",
    "    #print(A)\n",
    "    #print(b)\n",
    "    #print(basis)\n",
    "    m, n = A.shape\n",
    "\n",
    "    # compute delta_k\n",
    "    deltas = [\n",
    "        c[j] - sum(c[basis[i]]*A[i, j] for i in range(m))\n",
    "        for j in range(n)\n",
    "    ]\n",
    "\n",
    "    #print('deltas', deltas)\n",
    "\n",
    "    # check if optimal vertex is reached\n",
    "    if all(delta >= 0 for delta in deltas):\n",
    "        xstar = [0] * n\n",
    "        for i in range(m):\n",
    "            xstar[basis[i]] = b[i]\n",
    "        return xstar\n",
    "\n",
    "    k = deltas.index(min(deltas))  # determine in_index\n",
    "\n",
    "    # check if target function is unbounded\n",
    "    if all(A[i, k] <= 0 for i in range(m)): return\n",
    "\n",
    "    # compute theta_k\n",
    "    thetas = [\n",
    "        b[i]/A[i, k] if A[i, k] > 0 else float('inf')\n",
    "        for i in range(m)\n",
    "    ]\n",
    "\n",
    "    #print('thetas', thetas)\n",
    "\n",
    "    l = thetas.index(min(thetas))  # determine out_index\n",
    "    basis[l] = k                   # change basis\n",
    "\n",
    "    # perform gauss transformations\n",
    "    b[l] /= A[l, k]\n",
    "    A[l, :] /= A[l, k]\n",
    "    for i in range(m):\n",
    "        if i == l: continue\n",
    "        b[i] -= b[l] * A[i, k]\n",
    "        A[i, :] -= A[l, :] * A[i, k]\n",
    "\n",
    "    return simplex_method(A, b, c, basis)   # start over"
   ]
  },
  {
   "cell_type": "code",
   "execution_count": 166,
   "id": "678b3fa3",
   "metadata": {},
   "outputs": [
    {
     "name": "stdout",
     "output_type": "stream",
     "text": [
      "x* = [146/19, 23/19, 0, 0, 476/19]\n",
      "L* = 753/19\n",
      "Matrix([[23/19], [476/19], [146/19]])\n"
     ]
    }
   ],
   "source": [
    "# M-method\n",
    "m, n = A.shape\n",
    "M = max(max(abs(A)), max(abs(b)), max(abs(c))) + 1\n",
    "basis = []\n",
    "ys = 0\n",
    "\n",
    "for i in range(m):\n",
    "    if A[i, n-m+i] == 1:\n",
    "        basis.append(n-m+i)\n",
    "    else:\n",
    "        col = [0] * m\n",
    "        col[i] = 1\n",
    "        A = A.row_join(Matrix(col))\n",
    "        c = c.col_join(Matrix([M]))\n",
    "        basis.append(n + ys)\n",
    "        ys += 1\n",
    "\n",
    "xstar = simplex_method(A, b, c, basis)\n",
    "\n",
    "if xstar is None or any(x > 0 for x in xstar[n:]):\n",
    "    print(\"No solution\")\n",
    "\n",
    "print('x* =', xstar[:n])\n",
    "print('L* =', -c.dot(xstar))"
   ]
  },
  {
   "cell_type": "code",
   "execution_count": 167,
   "id": "6d6199ae",
   "metadata": {},
   "outputs": [],
   "source": [
    "def gomory_cut(A, b, x, basis):\n",
    "    if all(type(beta) is int or beta.is_integer for beta in x): return x\n",
    "    \n",
    "    global deltas\n",
    "    l = -1\n",
    "    for i, beta_i in enumerate(x):\n",
    "        if not beta_i.is_integer:\n",
    "            l = i\n",
    "            break\n",
    "            \n",
    "    index = basis.index(l)\n",
    "    \n",
    "    new_row = [-frac(alpha) for alpha in A[index, :]]\n",
    "    new_row.append(1)\n",
    "    \n",
    "    b = b.col_join(Matrix([-frac(x[l])]))\n",
    "    A = A.row_join(Matrix([0]*m))\n",
    "    A = A.col_join(Matrix([new_row]))\n",
    "\n",
    "    deltas = [-delta/alpha if alpha < 0 else float('inf') for delta, alpha in zip(deltas, new_row)]\n",
    "    k = deltas.index(min(deltas)) # in_index\n",
    "    \n",
    "    basis.append(k)\n",
    "    l = m # out_index\n",
    "\n",
    "    b[l] /= A[l, k]\n",
    "    A[l, :] /= A[l, k]\n",
    "    for i in range(m):\n",
    "        if i == l: continue\n",
    "        b[i] -= b[l] * A[i, k]\n",
    "        A[i, :] -= A[l, :] * A[i, k]\n",
    "\n",
    "    x = simplex_method(A, b, c, basis)\n",
    "    \n",
    "    return gomory_cut(A[:m, :n], Matrix(b[:m]), x[:n], basis[:m])"
   ]
  },
  {
   "cell_type": "code",
   "execution_count": 177,
   "id": "7f0dbebf",
   "metadata": {},
   "outputs": [
    {
     "name": "stdout",
     "output_type": "stream",
     "text": [
      "x* = [7, 1, 2, 0, 21]\n",
      "L* = 36\n"
     ]
    }
   ],
   "source": [
    "c = Matrix(c[:n])\n",
    "xstar = gomory_cut(A[:, :n], b, xstar[:n], basis)\n",
    "print('x* =', xstar)\n",
    "print('L* =', -c.dot(xstar))"
   ]
  },
  {
   "cell_type": "code",
   "execution_count": null,
   "id": "a7f41e3d",
   "metadata": {},
   "outputs": [],
   "source": []
  },
  {
   "cell_type": "code",
   "execution_count": null,
   "id": "b5c670a6",
   "metadata": {},
   "outputs": [],
   "source": []
  },
  {
   "cell_type": "code",
   "execution_count": null,
   "id": "c5e019f0",
   "metadata": {},
   "outputs": [],
   "source": []
  },
  {
   "cell_type": "code",
   "execution_count": null,
   "id": "20526518",
   "metadata": {},
   "outputs": [],
   "source": []
  }
 ],
 "metadata": {
  "kernelspec": {
   "display_name": "Python 3",
   "language": "python",
   "name": "python3"
  },
  "language_info": {
   "codemirror_mode": {
    "name": "ipython",
    "version": 3
   },
   "file_extension": ".py",
   "mimetype": "text/x-python",
   "name": "python",
   "nbconvert_exporter": "python",
   "pygments_lexer": "ipython3",
   "version": "3.9.5"
  }
 },
 "nbformat": 4,
 "nbformat_minor": 5
}
