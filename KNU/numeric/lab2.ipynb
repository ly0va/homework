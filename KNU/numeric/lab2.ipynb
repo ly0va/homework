{
 "cells": [
  {
   "cell_type": "markdown",
   "metadata": {},
   "source": [
    "# Лабораторна №2. Потьомкін Лев, К-27\n",
    "\n",
    "## 1. Метод Гауса з вибором головного елемента\n",
    "\n",
    "### Теорія\n",
    "\n",
    "СЛАР - система лінійних алгебраїчних рівнянь, вигляду\n",
    "\n",
    "\\begin{cases} a_{11}x_1 + a_{12}x_2 + ... + a_{1n}x_n = b_1 \\\\ a_{21}x_1 + a_{22}x_2 + ... + a_{2n}x_n = b_2 \\\\ ... \\\\ a_{n1}x_1 + a_{n2}x_2 + ... + a_{nn}x_n = b_n \\end{cases} \n",
    "\n",
    "Її можна представити у вигляді добутку матриці коефіцієнтів на вектор змінних: $Ax = b$\n",
    "\n",
    "Для розв'язку СЛАР можна застосувати як прямі, так і ітераційні методи. Поширеним прямим способом розв’язання систем лінійних рівнянь є алгоритм послідовного виключення невідомих, що має назву метод Гауса.\n",
    "   \n",
    "Існують різні алгоритми його реалізації. Один із них - метод Гауса із вибором головного елемента - розглядається у цій роботі.\n",
    "   \n",
    "Метод Гауса із вибором головного елемента передбачає послідовність однотипних кроків виключення невідомих із системи рівнянь. На кожному кроці виключається чергове невідоме за допомогою рівняння з найбільшим за модулем (або хоча б ненульовим) коефіцієнтом при відподвідному невідомому."
   ]
  },
  {
   "cell_type": "code",
   "execution_count": 76,
   "metadata": {},
   "outputs": [],
   "source": [
    "def gauss(A, eq=0, var=0):\n",
    "    n, m = len(A), len(A[0])-1\n",
    "    \n",
    "    # дійшли до кінця\n",
    "    if eq == n or var == m:\n",
    "        if any(A[k][m] != 0 for k in range(eq, n)):\n",
    "            return None # немає розв'язку\n",
    "        \n",
    "        if n >= m and A[m-1][m-1] != 0:\n",
    "            return [A[k][m] for k in range(m)]\n",
    "        \n",
    "        return None # нескінченна к-ть розв'язків\n",
    "    \n",
    "    # обираємо головний елемент\n",
    "    for k in range(eq, n):\n",
    "        if A[k][var] != 0:\n",
    "            A[eq], A[k] = A[k], A[eq]\n",
    "            break\n",
    "    \n",
    "    # якщо ненульових немає, переходимо до наступного р-ння\n",
    "    if A[eq][var] == 0:\n",
    "        return gauss(A, eq, var+1)\n",
    "    \n",
    "    # ділимо на головний елемент\n",
    "    for i in range(var+1, m+1):\n",
    "        A[eq][i] /= A[eq][var]\n",
    "    A[eq][var] = 1\n",
    "    \n",
    "    # виключаємо невідомі\n",
    "    for k in range(n):\n",
    "        if k == eq or A[k][var] == 0: continue\n",
    "        coef = A[k][var]\n",
    "        for i in range(var, m+1):\n",
    "            A[k][i] -= coef*A[eq][i]\n",
    "      \n",
    "    # переходимо до наступного р-ння\n",
    "    return gauss(A, eq+1, var+1)\n"
   ]
  },
  {
   "cell_type": "code",
   "execution_count": 77,
   "metadata": {},
   "outputs": [
    {
     "data": {
      "text/latex": [
       "$\\displaystyle \\left[\\begin{matrix}1.0\\\\2.0\\\\4.0\\\\5.0\\end{matrix}\\right]$"
      ],
      "text/plain": [
       "Matrix([\n",
       "[1.0],\n",
       "[2.0],\n",
       "[4.0],\n",
       "[5.0]])"
      ]
     },
     "execution_count": 77,
     "metadata": {},
     "output_type": "execute_result"
    }
   ],
   "source": [
    "A_b = [\n",
    "    [4, 3, 1, 0, 14],\n",
    "    [-2, 2, 6, 1, 31],\n",
    "    [0, 5, 2, 3, 33],\n",
    "    [0, 1, 2, 7, 45]\n",
    "]\n",
    "\n",
    "x = gauss(A_b)\n",
    "Matrix(x)"
   ]
  },
  {
   "cell_type": "markdown",
   "metadata": {},
   "source": [
    "## 2. Метод квадратного кореня\n",
    "\n",
    "### Теорія\n",
    "\n",
    "Нехай є СЛАР $Ax = b$\n",
    "\n",
    "Та нехай $A$ - симетрична матриця. Тоді існують такi $S$, $D$ що $ A = S^TDS $, де $S$ - верхньотрикутна матриця, $D$ - діагональна.\n",
    "\n",
    "Тоді розв'язавши систему\n",
    "\n",
    "- $S^TDy = b$\n",
    "- $Sx = y$\n",
    "\n",
    "розв'яжемо й вихідну СЛАР.\n",
    "\n",
    "Так як обидві матриці $S^TD$ та $S$ трикутні, треба виконати лише зворотній хід методу Гауса.\n"
   ]
  },
  {
   "cell_type": "code",
   "execution_count": 78,
   "metadata": {},
   "outputs": [],
   "source": [
    "from sympy import sign, Matrix\n",
    "\n",
    "def sqrt_method(A, b):\n",
    "    # перевірка на симетричність\n",
    "    assert(A.is_symmetric())\n",
    "    \n",
    "    n = len(b)\n",
    "    S = Matrix.zeros(n)\n",
    "    D = Matrix.zeros(n)\n",
    "    \n",
    "    # обчислюємо матриці S, D\n",
    "    for i in range(n):\n",
    "        temp = A[i, i] - sum(S[p, i]**2 * D[p, p] for p in range(i))\n",
    "        D[i, i] = sign(temp)\n",
    "        S[i, i] = abs(temp) ** 0.5\n",
    "        for j in range(i+1, n):\n",
    "            temp  = A[i, j] - sum(S[p, i] * D[p, p] * S[p, j] for p in range(i))\n",
    "            S[i, j] = temp / (D[i, i] * S[i, i])\n",
    "            \n",
    "    # розв'язуємо SᵀDy = b\n",
    "    y = solve_triangular(S.T * D, b)\n",
    "    # розв'язуємо Sx = y\n",
    "    x = solve_triangular(S[::-1, ::-1], y[::-1])[::-1]\n",
    "    return x\n",
    "\n",
    "def solve_triangular(A, b):\n",
    "    n = len(b)\n",
    "    x = b.copy()\n",
    "    \n",
    "    for i in range(n):\n",
    "        x[i] /= A[i, i]\n",
    "        for j in range(i+1, n):\n",
    "            x[j] -= x[i] * A[j, i]\n",
    "        \n",
    "    return x"
   ]
  },
  {
   "cell_type": "code",
   "execution_count": 79,
   "metadata": {},
   "outputs": [
    {
     "data": {
      "text/latex": [
       "$\\displaystyle \\left[\\begin{matrix}3.0\\\\4.0\\\\5.0\\end{matrix}\\right]$"
      ],
      "text/plain": [
       "Matrix([\n",
       "[3.0],\n",
       "[4.0],\n",
       "[5.0]])"
      ]
     },
     "execution_count": 79,
     "metadata": {},
     "output_type": "execute_result"
    }
   ],
   "source": [
    "A = Matrix([\n",
    "    [1, 2, 0],\n",
    "    [2, 2, 4],\n",
    "    [0, 4, 3]\n",
    "])\n",
    "\n",
    "b = Matrix([11, 34, 31])\n",
    "x = sqrt_method(A, b)\n",
    "Matrix(x)"
   ]
  },
  {
   "cell_type": "code",
   "execution_count": null,
   "metadata": {},
   "outputs": [],
   "source": []
  }
 ],
 "metadata": {
  "kernelspec": {
   "display_name": "Python 3",
   "language": "python",
   "name": "python3"
  },
  "language_info": {
   "codemirror_mode": {
    "name": "ipython",
    "version": 3
   },
   "file_extension": ".py",
   "mimetype": "text/x-python",
   "name": "python",
   "nbconvert_exporter": "python",
   "pygments_lexer": "ipython3",
   "version": "3.9.2"
  }
 },
 "nbformat": 4,
 "nbformat_minor": 4
}
