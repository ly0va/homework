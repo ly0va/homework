{
 "cells": [
  {
   "cell_type": "markdown",
   "id": "9ee384d4",
   "metadata": {},
   "source": [
    "# Потьомкін Лев, К-27, Варіант 11\n",
    "\n",
    "## 1. Чисельне інтегрування, метод трапецій\n",
    "\n",
    "Якщо у квадратурнiй формулi замк-неного типу взяти $n = 1$, то отримаємо формулу трапецiй:\n",
    "\n",
    "$$ \\int_a^b f(x) dx \\approx \\dfrac{f(a) + f(b)}{2}(b-a) $$\n",
    "\n",
    "Оцінка залишкового члена:\n",
    "\n",
    "$$ | R(f) | \\leq \\dfrac{M_2 (b-a) h^2}{12} $$"
   ]
  },
  {
   "cell_type": "code",
   "execution_count": 96,
   "id": "0ac87139",
   "metadata": {},
   "outputs": [
    {
     "data": {
      "image/png": "[encoded data removed]",
      "text/plain": [
       "<Figure size 432x288 with 1 Axes>"
      ]
     },
     "metadata": {
      "needs_background": "light"
     },
     "output_type": "display_data"
    },
    {
     "name": "stdout",
     "output_type": "stream",
     "text": [
      "Step: 0.0014\n"
     ]
    }
   ],
   "source": [
    "import numpy as np\n",
    "from sympy import *\n",
    "\n",
    "# set integration limits\n",
    "EPS = 1e-3\n",
    "a = 0\n",
    "b = 5.5\n",
    "\n",
    "# define the function\n",
    "x, y = var('x, y')\n",
    "f = 3*x**4 + 2*x**2 + x\n",
    "plot(f, (x, a, b))\n",
    "\n",
    "# calculate step length\n",
    "M2 = 1093\n",
    "assert M2 == f.diff(x, 2).subs(x, b)\n",
    "step = sqrt(12 * EPS / (M2 * (b-a)))\n",
    "\n",
    "print(f\"Step: {step:.4f}\")"
   ]
  },
  {
   "cell_type": "code",
   "execution_count": 85,
   "id": "10e0928b",
   "metadata": {},
   "outputs": [
    {
     "name": "stdout",
     "output_type": "stream",
     "text": [
      "Numeric  integration result: 3145.74808\n",
      "Symbolic integration result: 3145.74792\n"
     ]
    }
   ],
   "source": [
    "def trapezoid_method(f, limits, step):\n",
    "    result = 0\n",
    "    a, b = limits\n",
    "    \n",
    "    for x in np.arange(a, b, step):\n",
    "        result += f(x) + f(x+step)\n",
    "    \n",
    "    return result * step / 2\n",
    "\n",
    "numeric = trapezoid_method(lambdify(x, f), (a, b), step=0.001)\n",
    "symbolic = integrate(f, (x, a, b))\n",
    "\n",
    "print(f\"Numeric  integration result: {numeric:.5f}\") \n",
    "print(f\"Symbolic integration result: {symbolic:.5f}\") "
   ]
  },
  {
   "cell_type": "markdown",
   "id": "1d0c1909",
   "metadata": {},
   "source": [
    "## 2. Розв'язання систем нелінійних рівнянь, метод Ньютона\n",
    "\n",
    "Лінеаризуючи рівняння $\\vec{F}(\\vec{x}) = 0$ в околі наближення до розв'язку $\\vec{x}$ отримуємо СЛАР відносно нового наближення $\\vec{x}^{k+1}$:\n",
    "\n",
    "$$ \\vec{F}(\\vec{x}^k) + F'(\\vec{x}^k)(\\vec{x}^{k+1} - \\vec{x}^k) = 0 $$\n",
    "\n",
    "Алгоритм:\n",
    "- задати початкове наближення $\\vec{x}^0$\n",
    "- обчислити матрицю Якобі $A_k(\\vec{x}^k)$\n",
    "- розв'язати СЛАР $A_k\\vec{z}^k = \\vec{F}(\\vec{x}^k)$\n",
    "- обчислити нове наближення $\\vec{x}^{k+1} = \\vec{x}^k - \\vec{z}^k$\n",
    "- перевірити умову $||\\vec{z}|| < \\varepsilon$, якщо її виконано, припинити процес"
   ]
  },
  {
   "cell_type": "code",
   "execution_count": 92,
   "id": "b05a30d4",
   "metadata": {},
   "outputs": [
    {
     "name": "stdout",
     "output_type": "stream",
     "text": [
      "x = 0.6981\n",
      "y = 0.5063\n"
     ]
    }
   ],
   "source": [
    "x_i = Matrix([1.25, 0])\n",
    "\n",
    "F = Matrix([\n",
    "    tan(x*y + 0.1) - x**2,\n",
    "    x**2 + 2*y**2 - 1\n",
    "])\n",
    "\n",
    "J = F.jacobian([x, y])\n",
    "\n",
    "while True:\n",
    "    s = { x: x_i[0], y: x_i[1] }\n",
    "    z = J.subs(s).solve(F.subs(s))\n",
    "    x_i -= z\n",
    "\n",
    "    if z.norm() < EPS: break\n",
    "\n",
    "print(f\"x = {x_i[0].n(4)}\")\n",
    "print(f\"y = {x_i[1].n(4)}\")"
   ]
  },
  {
   "cell_type": "markdown",
   "id": "46a978dc",
   "metadata": {},
   "source": [
    "## 3. Знаходження власних чисел, метод обертання Якобі\n",
    "\n",
    "Метод полягає у виконанні ортогональних перетворень, вихідної матриці $А$, що зводять її до діагонального виду $\\Lambda = UAU^T$, де $\\Lambda = \\text{diag}(\\lambda_i)$, $\\lambda_i$ - власні числа"
   ]
  },
  {
   "cell_type": "code",
   "execution_count": 159,
   "id": "dc19b0ef",
   "metadata": {},
   "outputs": [
    {
     "name": "stdout",
     "output_type": "stream",
     "text": [
      "Numerically  calculated: [0.58599, 1.9998, 3.4142]\n",
      "Symbolically calculated: [0.58579, 2.0000, 3.4142]\n"
     ]
    }
   ],
   "source": [
    "A = Matrix([\n",
    "    [2, 1, 0],\n",
    "    [1, 2, 1],\n",
    "    [0, 1, 2]\n",
    "])\n",
    "\n",
    "def find_max_nondiagonal(A):\n",
    "    n, m = A.shape\n",
    "    maxi = maxj = 0\n",
    "    a = -float('inf')\n",
    "    for i in range(n):\n",
    "        for j in range(m):\n",
    "            if i == j: continue\n",
    "            if A[i, j] > a:\n",
    "                a = A[i, j]\n",
    "                maxi, maxj = i, j\n",
    "    return maxi, maxj\n",
    "\n",
    "def calculate_phi(A, i, j):\n",
    "    if A[i, i] == A[j, j]:\n",
    "        return pi / 4\n",
    "    h = 2*A[i, j] / (A[i, i] - A[j, j])\n",
    "    return atan(h) / 2\n",
    "\n",
    "def construct_U(A, i, j, phi):\n",
    "    n, _ = A.shape\n",
    "    U = Matrix.eye(n)\n",
    "    U[i, i] = cos(phi)\n",
    "    U[j, j] = cos(phi)\n",
    "    U[i, j] = sin(phi)\n",
    "    U[j, i] = -sin(phi)\n",
    "    return U\n",
    "\n",
    "def t(A):\n",
    "    n, m = A.shape\n",
    "    s = 0\n",
    "    for i in range(n):\n",
    "        for j in range(m):\n",
    "            if i == j: continue\n",
    "            s += A[i, j]**2\n",
    "    return s\n",
    "\n",
    "def jacobi_method(A):\n",
    "    while True:\n",
    "        i, j = find_max_nondiagonal(A)\n",
    "        phi = calculate_phi(A, i, j).n(10)\n",
    "        U = construct_U(A, i, j, phi)\n",
    "        A = U*A*U.T\n",
    "        if t(A) < EPS: break\n",
    "            \n",
    "    return A.diagonal()\n",
    "    \n",
    "    \n",
    "numeric = jacobi_method(A).n(5)\n",
    "symbolic = [x.n(5) for x in A.eigenvals().keys()]\n",
    "\n",
    "print(\"Numerically  calculated:\", sorted(numeric))\n",
    "print(\"Symbolically calculated:\", sorted(symbolic))"
   ]
  },
  {
   "cell_type": "code",
   "execution_count": null,
   "id": "6a2135f1",
   "metadata": {},
   "outputs": [],
   "source": []
  }
 ],
 "metadata": {
  "kernelspec": {
   "display_name": "Python 3",
   "language": "python",
   "name": "python3"
  },
  "language_info": {
   "codemirror_mode": {
    "name": "ipython",
    "version": 3
   },
   "file_extension": ".py",
   "mimetype": "text/x-python",
   "name": "python",
   "nbconvert_exporter": "python",
   "pygments_lexer": "ipython3",
   "version": "3.9.4"
  }
 },
 "nbformat": 4,
 "nbformat_minor": 5
}
