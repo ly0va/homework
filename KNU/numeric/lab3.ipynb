{
 "cells": [
  {
   "cell_type": "code",
   "execution_count": 44,
   "id": "unauthorized-malaysia",
   "metadata": {},
   "outputs": [],
   "source": [
    "from sympy import Matrix\n",
    "\n",
    "def is_convergent(A):\n",
    "    n, _ = A.shape\n",
    "    for i in range(n):\n",
    "        s = 0\n",
    "        for j in range(n):\n",
    "            s += abs(A[i, j]) if i != j else 0\n",
    "        if s > abs(A[i, i]):\n",
    "            return False\n",
    "    return True\n",
    "            \n",
    "\n",
    "def jacobi(A, b, iters=100):\n",
    "    assert is_convergent(A)\n",
    "    n = len(b)\n",
    "    x = Matrix.zeros(n, 1)\n",
    "    \n",
    "    for i in range(n):\n",
    "        b[i] /= A[i, i]\n",
    "        A[i, :] /= A[i, i]\n",
    "        A[i, i] = 0\n",
    "\n",
    "    for _ in range(iters):\n",
    "        x = -A*x + b\n",
    "        \n",
    "    return x\n",
    "\n",
    "\n",
    "def zeidel(A, b, iters=100):\n",
    "    assert is_convergent(A)\n",
    "    n = len(b)\n",
    "    x = Matrix.zeros(n, 1)\n",
    "\n",
    "    for i in range(n):\n",
    "        b[i] /= A[i, i]\n",
    "        A[i, :] /= A[i, i]\n",
    "        A[i, i] = 0\n",
    "        \n",
    "    for _ in range(iters):\n",
    "        for i in range(n):\n",
    "            x[i] = -A[i, :].dot(x) + b[i]\n",
    "\n",
    "    return x\n"
   ]
  },
  {
   "cell_type": "code",
   "execution_count": 57,
   "id": "affiliated-phone",
   "metadata": {},
   "outputs": [
    {
     "data": {
      "text/latex": [
       "$\\displaystyle \\left[\\begin{matrix}2.0\\\\3.0\\\\4.0\\\\5.0\\end{matrix}\\right]$"
      ],
      "text/plain": [
       "Matrix([\n",
       "[2.0],\n",
       "[3.0],\n",
       "[4.0],\n",
       "[5.0]])"
      ]
     },
     "execution_count": 57,
     "metadata": {},
     "output_type": "execute_result"
    }
   ],
   "source": [
    "A = Matrix([\n",
    "    [4, 0, 1, 1],\n",
    "    [0, 3, 0, 1],\n",
    "    [1, 0, 2, 0],\n",
    "    [1, 1, 0, 5]\n",
    "])\n",
    "\n",
    "b = Matrix([17, 14, 10, 30.0])\n",
    "\n",
    "zeidel(A, b)"
   ]
  },
  {
   "cell_type": "code",
   "execution_count": 58,
   "id": "patent-claim",
   "metadata": {},
   "outputs": [
    {
     "data": {
      "text/latex": [
       "$\\displaystyle \\left[\\begin{matrix}2.0\\\\3.0\\\\4.0\\\\5.0\\end{matrix}\\right]$"
      ],
      "text/plain": [
       "Matrix([\n",
       "[2.0],\n",
       "[3.0],\n",
       "[4.0],\n",
       "[5.0]])"
      ]
     },
     "execution_count": 58,
     "metadata": {},
     "output_type": "execute_result"
    }
   ],
   "source": [
    "A = Matrix([\n",
    "    [5, 1, 1, 0], \n",
    "    [1, 2, 0, 0], \n",
    "    [1, 0, 4, 2], \n",
    "    [0, 0, 2, 3]\n",
    "])\n",
    "\n",
    "b = Matrix([17, 8, 28, 23.0])\n",
    "\n",
    "jacobi(A, b)"
   ]
  },
  {
   "cell_type": "code",
   "execution_count": null,
   "id": "selected-branch",
   "metadata": {},
   "outputs": [],
   "source": []
  }
 ],
 "metadata": {
  "kernelspec": {
   "display_name": "Python 3",
   "language": "python",
   "name": "python3"
  },
  "language_info": {
   "codemirror_mode": {
    "name": "ipython",
    "version": 3
   },
   "file_extension": ".py",
   "mimetype": "text/x-python",
   "name": "python",
   "nbconvert_exporter": "python",
   "pygments_lexer": "ipython3",
   "version": "3.9.2"
  }
 },
 "nbformat": 4,
 "nbformat_minor": 5
}
