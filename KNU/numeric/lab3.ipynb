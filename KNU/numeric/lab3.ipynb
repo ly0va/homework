{
 "cells": [
  {
   "cell_type": "markdown",
   "id": "athletic-leonard",
   "metadata": {},
   "source": [
    "# Потьомкін Лев, лабораторна № 3, варіант № 11"
   ]
  },
  {
   "cell_type": "code",
   "execution_count": 24,
   "id": "unauthorized-malaysia",
   "metadata": {},
   "outputs": [],
   "source": [
    "from math import log\n",
    "from sympy import Matrix\n",
    "\n",
    "# returns 0 if A is divergent, else\n",
    "# returns q which is used to compute number of iterations\n",
    "def get_q(A):\n",
    "    n, _ = A.shape\n",
    "    q = []\n",
    "    for i in range(n):\n",
    "        s = 0\n",
    "        for j in range(n):\n",
    "            s += abs(A[i, j]) if i != j else 0\n",
    "        if s > abs(A[i, i]):\n",
    "            return 0\n",
    "        else:\n",
    "            q.append(s / abs(A[i, i]))\n",
    "    return max(q)\n",
    "\n",
    "\n",
    "# Jacobi method\n",
    "def jacobi(A, b, iters=100):  \n",
    "    # check that method will converge\n",
    "    assert get_q(A) != 0\n",
    "    \n",
    "    n = len(b)\n",
    "    x = Matrix.zeros(n, 1)\n",
    "    \n",
    "    for i in range(n):\n",
    "        b[i] /= A[i, i]\n",
    "        A[i, :] /= A[i, i]\n",
    "        A[i, i] = 0\n",
    "\n",
    "    for _ in range(iters):\n",
    "        x = -A*x + b\n",
    "        \n",
    "    return x\n",
    "\n",
    "\n",
    "# Zeidel method\n",
    "def zeidel(A, b, iters=100):\n",
    "    # check that method will converge\n",
    "    assert get_q(A) != 0\n",
    "    \n",
    "    n = len(b)\n",
    "    x = Matrix.zeros(n, 1)\n",
    "\n",
    "    for i in range(n):\n",
    "        b[i] /= A[i, i]\n",
    "        A[i, :] /= A[i, i]\n",
    "        A[i, i] = 0\n",
    "        \n",
    "    for _ in range(iters):\n",
    "        for i in range(n):\n",
    "            x[i] = -A[i, :].dot(x) + b[i]\n",
    "\n",
    "    return x\n"
   ]
  },
  {
   "cell_type": "markdown",
   "id": "amended-purple",
   "metadata": {},
   "source": [
    "## 1. Метод Якобі\n",
    "\n",
    "Нехай є СЛАР з ненульовими діагональними коефіцієнтами.\n",
    "\n",
    "### Ітераційний процес:\n",
    "\n",
    "$$ x_i^{k+1} = - \\sum_{j=1 \\\\ j \\neq i}^n \\dfrac{a_{ij}}{a_{ii}} x_j^k + \\dfrac{b_i}{a_{ii}} $$\n",
    "\n",
    "### Умова збіжності:\n",
    "\n",
    "$$ |a_{ii}| < \\sum_{j=1 \\\\ j \\neq i}^n |a_{ij}| ,\\; i = \\overline{1, n} $$\n",
    "\n",
    "### Оцінка точності:\n",
    "\n",
    "$$\n",
    "Якщо \\; q|a_{ii}| < \\sum_{j=1 \\\\ j \\neq i}^n |a_{ij}| ,\\; i = \\overline{1, n} \\\\ то \\; ||x^k - x|| < \\dfrac{q^k}{1-q} || x^0 - x^1 ||\n",
    "$$"
   ]
  },
  {
   "cell_type": "code",
   "execution_count": 25,
   "id": "affiliated-phone",
   "metadata": {},
   "outputs": [
    {
     "name": "stdout",
     "output_type": "stream",
     "text": [
      "Number of iterations: 28\n"
     ]
    },
    {
     "data": {
      "text/latex": [
       "$\\displaystyle \\left[\\begin{matrix}1.99999463129088\\\\2.99999618539089\\\\3.99998855617266\\\\4.9999865782272\\end{matrix}\\right]$"
      ],
      "text/plain": [
       "Matrix([\n",
       "[1.99999463129088],\n",
       "[2.99999618539089],\n",
       "[3.99998855617266],\n",
       "[ 4.9999865782272]])"
      ]
     },
     "execution_count": 25,
     "metadata": {},
     "output_type": "execute_result"
    }
   ],
   "source": [
    "EPS = 1e-3\n",
    "\n",
    "A = Matrix([\n",
    "    [5, 1, 1, 0], \n",
    "    [1, 2, 0, 0], \n",
    "    [1, 0, 4, 2], \n",
    "    [0, 0, 2, 3]\n",
    "])\n",
    "\n",
    "b = Matrix([17, 8, 28, 23.0])\n",
    "\n",
    "# compute number of iterations\n",
    "# q**k / (1-q) < EPS\n",
    "# q**k < (1-q) * EPS\n",
    "# k * log q < log (1-q) + log EPS\n",
    "# k < (loq (1-q) + log EPS) / log q\n",
    "\n",
    "q = get_q(A)\n",
    "k = int((log(1-q) + log(EPS)) / log(q))\n",
    "\n",
    "print(\"Number of iterations:\", k)\n",
    "jacobi(A, b, iters=k)"
   ]
  },
  {
   "cell_type": "markdown",
   "id": "formed-freedom",
   "metadata": {},
   "source": [
    "## 2. Метод Зейделя\n",
    "\n",
    "Нехай є СЛАР з ненульовими діагональними коефіцієнтами. \n",
    "\n",
    "Метод схожий на метод Якобі, але при обчисленні використовує вже доступні значення останньої ітерації.\n",
    "\n",
    "### Ітераційний процес:\n",
    "\n",
    "$$ x_i^{k+1} = - \\sum_{j=1}^{i-1} \\dfrac{a_{ij}}{a_{ii}} x_j^{k+1} - \\sum_{j=i+1}^n \\dfrac{a_{ij}}{a_{ii}} x_j^k + \\dfrac{b_i}{a_{ii}} $$\n",
    "\n",
    "### Умова збіжності:\n",
    "\n",
    "Така ж як і для методу Якобі. Крім того, метод збігається, якщо $ A^T = A >= 0 $."
   ]
  },
  {
   "cell_type": "code",
   "execution_count": 26,
   "id": "patent-claim",
   "metadata": {},
   "outputs": [
    {
     "data": {
      "text/latex": [
       "$\\displaystyle \\left[\\begin{matrix}2.00000123957888\\\\3.00000061978965\\\\3.99999938021056\\\\4.99999962812629\\end{matrix}\\right]$"
      ],
      "text/plain": [
       "Matrix([\n",
       "[2.00000123957888],\n",
       "[3.00000061978965],\n",
       "[3.99999938021056],\n",
       "[4.99999962812629]])"
      ]
     },
     "execution_count": 26,
     "metadata": {},
     "output_type": "execute_result"
    }
   ],
   "source": [
    "A = Matrix([\n",
    "    [4, 0, 1, 1],\n",
    "    [0, 3, 0, 1],\n",
    "    [1, 0, 2, 0],\n",
    "    [1, 1, 0, 5]\n",
    "])\n",
    "\n",
    "b = Matrix([17, 14, 10, 30.0])\n",
    "\n",
    "zeidel(A, b, iters=10)"
   ]
  }
 ],
 "metadata": {
  "kernelspec": {
   "display_name": "Python 3",
   "language": "python",
   "name": "python3"
  },
  "language_info": {
   "codemirror_mode": {
    "name": "ipython",
    "version": 3
   },
   "file_extension": ".py",
   "mimetype": "text/x-python",
   "name": "python",
   "nbconvert_exporter": "python",
   "pygments_lexer": "ipython3",
   "version": "3.9.3"
  }
 },
 "nbformat": 4,
 "nbformat_minor": 5
}
